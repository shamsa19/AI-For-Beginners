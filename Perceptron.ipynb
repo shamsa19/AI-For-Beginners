{
  "nbformat": 4,
  "nbformat_minor": 0,
  "metadata": {
    "colab": {
      "provenance": [],
      "authorship_tag": "ABX9TyPxC8ot2vdYYuXEPncH2ork",
      "include_colab_link": true
    },
    "kernelspec": {
      "name": "python3",
      "display_name": "Python 3"
    },
    "language_info": {
      "name": "python"
    }
  },
  "cells": [
    {
      "cell_type": "markdown",
      "metadata": {
        "id": "view-in-github",
        "colab_type": "text"
      },
      "source": [
        "<a href=\"https://colab.research.google.com/github/shamsa19/AI-For-Beginners/blob/main/Perceptron.ipynb\" target=\"_parent\"><img src=\"https://colab.research.google.com/assets/colab-badge.svg\" alt=\"Open In Colab\"/></a>"
      ]
    },
    {
      "cell_type": "code",
      "execution_count": 1,
      "metadata": {
        "id": "S2EpG78Z12sj"
      },
      "outputs": [],
      "source": [
        "import matplotlib.pyplot as plt\n",
        "import numpy as np\n",
        "import pickle\n",
        "import os"
      ]
    },
    {
      "cell_type": "code",
      "source": [
        "!rm *.pkl\n",
        "!wget https://github.com/mnielsen/neural-networks-and-deep-learning/blob/master/data/mnist.pkl.gz\n",
        "!gzip -d mnist.pkl.gz"
      ],
      "metadata": {
        "colab": {
          "base_uri": "https://localhost:8080/"
        },
        "id": "8jb7HEOB3iIz",
        "outputId": "cb712561-ff42-4be0-db24-37a819676fd4"
      },
      "execution_count": 9,
      "outputs": [
        {
          "output_type": "stream",
          "name": "stdout",
          "text": [
            "rm: cannot remove '*.pkl': No such file or directory\n",
            "--2025-01-03 15:54:22--  https://github.com/mnielsen/neural-networks-and-deep-learning/blob/master/data/mnist.pkl.gz\n",
            "Resolving github.com (github.com)... 140.82.114.3\n",
            "Connecting to github.com (github.com)|140.82.114.3|:443... connected.\n",
            "HTTP request sent, awaiting response... 200 OK\n",
            "Length: unspecified [text/html]\n",
            "Saving to: ‘mnist.pkl.gz’\n",
            "\n",
            "mnist.pkl.gz            [ <=>                ] 159.67K  --.-KB/s    in 0.1s    \n",
            "\n",
            "2025-01-03 15:54:22 (1.60 MB/s) - ‘mnist.pkl.gz’ saved [163506]\n",
            "\n",
            "\n",
            "gzip: mnist.pkl.gz: not in gzip format\n"
          ]
        }
      ]
    },
    {
      "source": [
        "import os\n",
        "import requests\n",
        "import gzip\n",
        "import pickle\n",
        "import random\n",
        "\n",
        "url = 'https://github.com/mnielsen/neural-networks-and-deep-learning/raw/master/data/mnist.pkl.gz'\n",
        "filename = 'mnist.pkl.gz'\n",
        "\n",
        "\n",
        "response = requests.get(url, stream=True)\n",
        "with open(filename, 'wb') as f:\n",
        "    for chunk in response.iter_content(chunk_size=8192):\n",
        "        if chunk:\n",
        "            f.write(chunk)\n",
        "\n",
        "\n",
        "with gzip.open(filename, 'rb') as f_in:\n",
        "    with open(filename[:-3], 'wb') as f_out:\n",
        "        f_out.write(f_in.read())\n",
        "\n",
        "\n",
        "if os.path.exists(filename[:-3]):\n",
        "    with open(filename[:-3], 'rb') as mnist_pickle:\n",
        "\n",
        "        MNIST = pickle.load(mnist_pickle, encoding='latin1')\n",
        "\n",
        "else:\n",
        "    print(\"Error: mnist.pkl not found. Download or extraction failed.\")"
      ],
      "cell_type": "code",
      "metadata": {
        "id": "PKgcwdf64XWl"
      },
      "execution_count": 27,
      "outputs": []
    },
    {
      "cell_type": "code",
      "source": [
        "import os\n",
        "import requests\n",
        "import gzip\n",
        "import pickle\n",
        "\n",
        "\n",
        "url = 'https://github.com/mnielsen/neural-networks-and-deep-learning/raw/master/data/mnist.pkl.gz'\n",
        "filename = 'mnist.pkl.gz'\n",
        "\n",
        "\n",
        "response = requests.get(url, stream=True)\n",
        "with open(filename, 'wb') as f:\n",
        "    for chunk in response.iter_content(chunk_size=8192):\n",
        "        if chunk:\n",
        "            f.write(chunk)\n",
        "\n",
        "\n",
        "with gzip.open(filename, 'rb') as f_in:\n",
        "    with open(filename[:-3], 'wb') as f_out:\n",
        "        f_out.write(f_in.read())\n",
        "\n",
        "\n",
        "if os.path.exists(filename[:-3]):\n",
        "    with open(filename[:-3], 'rb') as mnist_pickle:\n",
        "        # The MNIST data is actually a tuple of 3 elements:\n",
        "        # training_data, validation_data, test_data\n",
        "        # We need to convert this tuple into the expected dictionary structure.\n",
        "        training_data, validation_data, test_data = pickle.load(mnist_pickle, encoding='latin1')\n",
        "        MNIST = {\n",
        "            'Train': {'Features': training_data[0], 'Labels': training_data[1]},\n",
        "            'Validation': {'Features': validation_data[0], 'Labels': validation_data[1]},\n",
        "            'Test': {'Features': test_data[0], 'Labels': test_data[1]}\n",
        "        }\n",
        "else:\n",
        "    print(\"Error: mnist.pkl not found. Download or extraction failed.\")\n",
        ""
      ],
      "metadata": {
        "id": "86QFGnq75SKl"
      },
      "execution_count": 32,
      "outputs": []
    },
    {
      "cell_type": "code",
      "source": [
        "def train(positive_examples, negative_examples, num_iterations = 100):\n",
        "    num_dims = positive_examples.shape[1]\n",
        "    weights = np.zeros((num_dims,1)) # initialize weights\n",
        "\n",
        "    pos_count = positive_examples.shape[0]\n",
        "    neg_count = negative_examples.shape[0]\n",
        "\n",
        "    report_frequency = 10\n",
        "\n",
        "    for i in range(num_iterations):\n",
        "        pos = random.choice(positive_examples)\n",
        "        neg = random.choice(negative_examples)\n",
        "\n",
        "        z = np.dot(pos, weights)\n",
        "        if z < 0:\n",
        "            weights = weights + pos.reshape(weights.shape)\n",
        "\n",
        "        z  = np.dot(neg, weights)\n",
        "        if z >= 0:\n",
        "            weights = weights - neg.reshape(weights.shape)\n",
        "\n",
        "        if i % report_frequency == 0:\n",
        "            pos_out = np.dot(positive_examples, weights)\n",
        "            neg_out = np.dot(negative_examples, weights)\n",
        "            pos_correct = (pos_out >= 0).sum() / float(pos_count)\n",
        "            neg_correct = (neg_out < 0).sum() / float(neg_count)\n",
        "            print(\"Iteration={}, pos correct={}, neg correct={}\".format(i,pos_correct,neg_correct))\n",
        "\n",
        "    return weights"
      ],
      "metadata": {
        "id": "EWnhorLk15Yy"
      },
      "execution_count": 29,
      "outputs": []
    },
    {
      "cell_type": "code",
      "source": [
        "def set_mnist_pos_neg(positive_label , negative_label):\n",
        "   positive_indices = [i for i, j in enumerate(MNIST['Train']['Labels']) if j == positive_label]\n",
        "   negative_indices = [i for i, j in enumerate(MNIST['Train']['Labels']) if j in negative_label]\n",
        "\n",
        "   positive_images = MNIST['Train']['Features'][positive_indices]\n",
        "   negative_images = MNIST['Train']['Features'][negative_indices]\n",
        "\n",
        "   return positive_images, negative_images"
      ],
      "metadata": {
        "id": "f_ltGRt6239K"
      },
      "execution_count": 28,
      "outputs": []
    },
    {
      "cell_type": "code",
      "source": [
        "def accuracy(weights, test_x, test_labels):\n",
        "    res = np.dot(np.c_[test_x,np.ones(len(test_x))],weights)\n",
        "    return (res.reshape(test_labels.shape)*test_labels>=0).sum()/float(len(test_labels))\n"
      ],
      "metadata": {
        "id": "hYGwXZFI175v"
      },
      "execution_count": 30,
      "outputs": []
    },
    {
      "cell_type": "code",
      "source": [
        "def classify(image, weights_list):\n",
        "  scores= np.array([np.dot(image,weights) for weights in weights_list])\n",
        "  predicted_label = np.argmax(scores)\n",
        "  return predicted_label"
      ],
      "metadata": {
        "id": "p9cLiedO1-uF"
      },
      "execution_count": 31,
      "outputs": []
    },
    {
      "cell_type": "code",
      "source": [
        "weights_list = []\n",
        "for digit in range(10):\n",
        "  print(f\"Training for digit {digit}\")\n",
        "  positive_examples, negative_examples = set_mnist_pos_neg(digit, [i for i in range(10) if i != digit])\n",
        "  weights = train(positive_examples , negative_examples)\n",
        "  weights_list.append(weights)\n",
        "\n",
        "\n",
        "test_images = MNIST['Test']['Features']\n",
        "test_labels = MNIST['Test']['Labels']\n",
        "\n",
        "correct = 0\n",
        "for i ,image in enumerate(test_images):\n",
        "  predicted_label = classify(image, weights_list)\n",
        "  if predicted_label == test_labels[i]:\n",
        "    correct += 1\n",
        "\n",
        "accuracy = correct /float(len(test_labels)) * 100\n",
        "print(f\"Accuracy: {accuracy}\")\n",
        "\n",
        "\n"
      ],
      "metadata": {
        "colab": {
          "base_uri": "https://localhost:8080/"
        },
        "id": "Ftt8DAtm4OiO",
        "outputId": "02de32fe-23d4-42be-c560-51282dc049b0"
      },
      "execution_count": 33,
      "outputs": [
        {
          "output_type": "stream",
          "name": "stdout",
          "text": [
            "Training for digit 0\n",
            "Iteration=0, pos correct=0.0, neg correct=1.0\n",
            "Iteration=10, pos correct=0.7049878345498783, neg correct=0.955045708706843\n",
            "Iteration=20, pos correct=0.9687753446877534, neg correct=0.8663131268305672\n",
            "Iteration=30, pos correct=0.9243714517437145, neg correct=0.9637658649152392\n",
            "Iteration=40, pos correct=0.9651257096512571, neg correct=0.8819339664506968\n",
            "Iteration=50, pos correct=0.8886861313868614, neg correct=0.9765465518771634\n",
            "Iteration=60, pos correct=0.9097729115977291, neg correct=0.974083606993876\n",
            "Iteration=70, pos correct=0.9097729115977291, neg correct=0.974083606993876\n",
            "Iteration=80, pos correct=0.9876317923763179, neg correct=0.8310331055294222\n",
            "Iteration=90, pos correct=0.9843876723438767, neg correct=0.8608768971332209\n",
            "Training for digit 1\n",
            "Iteration=0, pos correct=0.0, neg correct=1.0\n",
            "Iteration=10, pos correct=0.9867911236350828, neg correct=0.8230449889445423\n",
            "Iteration=20, pos correct=0.9181049665375132, neg correct=0.977821397951356\n",
            "Iteration=30, pos correct=0.9181049665375132, neg correct=0.977821397951356\n",
            "Iteration=40, pos correct=0.8064459316660796, neg correct=0.9939082171382158\n",
            "Iteration=50, pos correct=0.4431137724550898, neg correct=0.9993005730788321\n",
            "Iteration=60, pos correct=0.9270870024656569, neg correct=0.979694057127386\n",
            "Iteration=70, pos correct=0.9270870024656569, neg correct=0.979694057127386\n",
            "Iteration=80, pos correct=0.9707643536456498, neg correct=0.8695681602815757\n",
            "Iteration=90, pos correct=0.9778090877069391, neg correct=0.9389016741121791\n",
            "Training for digit 2\n",
            "Iteration=0, pos correct=0.0, neg correct=1.0\n",
            "Iteration=10, pos correct=0.7544283413848631, neg correct=0.7946793391366139\n",
            "Iteration=20, pos correct=0.7043075684380032, neg correct=0.9010703499733523\n",
            "Iteration=30, pos correct=0.9194847020933977, neg correct=0.7716290637768698\n",
            "Iteration=40, pos correct=0.8427938808373591, neg correct=0.7841534908509504\n",
            "Iteration=50, pos correct=0.999194847020934, neg correct=0.20940664416414995\n",
            "Iteration=60, pos correct=0.6878019323671497, neg correct=0.9553428672943685\n",
            "Iteration=70, pos correct=0.8651368760064412, neg correct=0.9067774027358323\n",
            "Iteration=80, pos correct=0.9297504025764896, neg correct=0.7730724817907266\n",
            "Iteration=90, pos correct=0.9146537842190016, neg correct=0.8750666192929473\n",
            "Training for digit 3\n",
            "Iteration=0, pos correct=0.0, neg correct=1.0\n",
            "Iteration=10, pos correct=0.9476573220937071, neg correct=0.6501258379919375\n",
            "Iteration=20, pos correct=0.979415800823368, neg correct=0.3776476090781532\n",
            "Iteration=30, pos correct=0.8645363654185454, neg correct=0.8414441301588008\n",
            "Iteration=40, pos correct=0.5971378161144874, neg correct=0.9566582774672042\n",
            "Iteration=50, pos correct=0.9188394432464223, neg correct=0.7656740684647765\n",
            "Iteration=60, pos correct=0.6839835326406587, neg correct=0.9376823537272545\n",
            "Iteration=70, pos correct=0.7226034110958636, neg correct=0.9251430989554333\n",
            "Iteration=80, pos correct=0.9470692021172319, neg correct=0.6797478785719059\n",
            "Iteration=90, pos correct=0.9470692021172319, neg correct=0.6797478785719059\n",
            "Training for digit 4\n",
            "Iteration=0, pos correct=0.0, neg correct=1.0\n",
            "Iteration=10, pos correct=0.1533237291623791, neg correct=0.9912053343966682\n",
            "Iteration=20, pos correct=0.9193249639843589, neg correct=0.8055204802729227\n",
            "Iteration=30, pos correct=0.2741304795225355, neg correct=0.9960124941848874\n",
            "Iteration=40, pos correct=0.9586334636756534, neg correct=0.8012449879267185\n",
            "Iteration=50, pos correct=0.5459971187487137, neg correct=0.9805055271261159\n",
            "Iteration=60, pos correct=0.9324963984358922, neg correct=0.7883520524578542\n",
            "Iteration=70, pos correct=0.9324963984358922, neg correct=0.7883520524578542\n",
            "Iteration=80, pos correct=0.9302325581395349, neg correct=0.8054318690325868\n",
            "Iteration=90, pos correct=0.9205597859641902, neg correct=0.8472342216610177\n",
            "Training for digit 5\n",
            "Iteration=0, pos correct=0.0, neg correct=1.0\n",
            "Iteration=10, pos correct=0.45849977807367953, neg correct=0.8578054248911945\n",
            "Iteration=20, pos correct=0.9409675987572126, neg correct=0.6062337890710863\n",
            "Iteration=30, pos correct=0.4371948513093653, neg correct=0.9433771486349848\n",
            "Iteration=40, pos correct=0.7367953839325344, neg correct=0.8428364179891854\n",
            "Iteration=50, pos correct=0.9107856191744341, neg correct=0.6436013540247065\n",
            "Iteration=60, pos correct=0.9809143364403018, neg correct=0.38818305710643164\n",
            "Iteration=70, pos correct=0.6533510874389703, neg correct=0.8714116147184244\n",
            "Iteration=80, pos correct=0.7811806480248558, neg correct=0.8649712049940651\n",
            "Iteration=90, pos correct=0.9485130936529073, neg correct=0.6454917131929485\n",
            "Training for digit 6\n",
            "Iteration=0, pos correct=0.0, neg correct=1.0\n",
            "Iteration=10, pos correct=0.8733589173904261, neg correct=0.8759794890008658\n",
            "Iteration=20, pos correct=0.9353665926075541, neg correct=0.81706586161735\n",
            "Iteration=30, pos correct=0.9820238335689759, neg correct=0.6516903815844969\n",
            "Iteration=40, pos correct=0.9791961219955565, neg correct=0.8016382161646207\n",
            "Iteration=50, pos correct=0.9634417289436478, neg correct=0.8954027836355968\n",
            "Iteration=60, pos correct=0.8864875782670167, neg correct=0.9683011831561189\n",
            "Iteration=70, pos correct=0.8864875782670167, neg correct=0.9683011831561189\n",
            "Iteration=80, pos correct=0.9907089476873359, neg correct=0.6300916779506759\n",
            "Iteration=90, pos correct=0.9450616037164209, neg correct=0.9451708140025306\n",
            "Training for digit 7\n",
            "Iteration=0, pos correct=0.0, neg correct=1.0\n",
            "Iteration=10, pos correct=0.9982608695652174, neg correct=0.3217847183491355\n",
            "Iteration=20, pos correct=0.7768115942028986, neg correct=0.9686335750139431\n",
            "Iteration=30, pos correct=0.9586473429951691, neg correct=0.8164640267707752\n",
            "Iteration=40, pos correct=0.7967149758454106, neg correct=0.9776687116564418\n",
            "Iteration=50, pos correct=0.7967149758454106, neg correct=0.9776687116564418\n",
            "Iteration=60, pos correct=0.9331400966183575, neg correct=0.9020858895705521\n",
            "Iteration=70, pos correct=0.9331400966183575, neg correct=0.9020858895705521\n",
            "Iteration=80, pos correct=0.9319806763285025, neg correct=0.9225209146681539\n",
            "Iteration=90, pos correct=0.9184541062801932, neg correct=0.9291466815393196\n",
            "Training for digit 8\n",
            "Iteration=0, pos correct=0.0, neg correct=1.0\n",
            "Iteration=10, pos correct=0.952912019826518, neg correct=0.47533105983435936\n",
            "Iteration=20, pos correct=0.14952498967368855, neg correct=0.9790291864121529\n",
            "Iteration=30, pos correct=0.19640644361833953, neg correct=0.9750210372469994\n",
            "Iteration=40, pos correct=0.7670384138785625, neg correct=0.8281367642499667\n",
            "Iteration=50, pos correct=0.5921106980586535, neg correct=0.8932193631250277\n",
            "Iteration=60, pos correct=0.41759603469640644, neg correct=0.9250631117409983\n",
            "Iteration=70, pos correct=0.9452705493597687, neg correct=0.4722086894902343\n",
            "Iteration=80, pos correct=0.5109458901280463, neg correct=0.9148545108286461\n",
            "Iteration=90, pos correct=0.785212722015696, neg correct=0.7694317728863103\n",
            "Training for digit 9\n",
            "Iteration=0, pos correct=0.0, neg correct=1.0\n",
            "Iteration=10, pos correct=0.3871291098636728, neg correct=0.8695014662756598\n",
            "Iteration=20, pos correct=0.4380513231756215, neg correct=0.8990935750466542\n",
            "Iteration=30, pos correct=0.11788291900561347, neg correct=0.9925575402114991\n",
            "Iteration=40, pos correct=0.8881315156375301, neg correct=0.7998755887318937\n",
            "Iteration=50, pos correct=0.9899759422614274, neg correct=0.49802274948902514\n",
            "Iteration=60, pos correct=0.9623095429029671, neg correct=0.696991913267573\n",
            "Iteration=70, pos correct=0.8825180433039295, neg correct=0.8284679640984627\n",
            "Iteration=80, pos correct=0.9799518845228549, neg correct=0.6433173375988626\n",
            "Iteration=90, pos correct=0.8562550120288693, neg correct=0.8568159601883942\n",
            "Accuracy: 75.19\n"
          ]
        }
      ]
    },
    {
      "cell_type": "code",
      "source": [
        "from sklearn.metrics import confusion_matrix\n",
        "import seaborn as sns\n",
        "\n",
        "predicted_labels = [classify(image, weights_list) for image in test_images]\n",
        "conf_matrix = confusion_matrix(test_labels, predicted_labels)\n",
        "\n",
        "class_names = [str(i) for i in range(10)]\n",
        "plt.figure(figsize=(10, 7))\n",
        "sns.heatmap(conf_matrix, annot=True, fmt='d', cmap='Blues', xticklabels=class_names, yticklabels=class_names)\n",
        "plt.xlabel('Predicted')\n",
        "plt.ylabel('True')\n",
        "plt.title('Confusion Matrix')\n",
        "plt.show()"
      ],
      "metadata": {
        "colab": {
          "base_uri": "https://localhost:8080/",
          "height": 641
        },
        "id": "oJ4Wau5H6yuB",
        "outputId": "4ec65514-bf4b-4e9d-c67e-58fb39d663a9"
      },
      "execution_count": 35,
      "outputs": [
        {
          "output_type": "display_data",
          "data": {
            "text/plain": [
              "<Figure size 1000x700 with 2 Axes>"
            ],
            "image/png": "[encoded data removed]"
          },
          "metadata": {}
        }
      ]
    },
    {
      "cell_type": "code",
      "source": [],
      "metadata": {
        "id": "-bhiYPla8Hle"
      },
      "execution_count": null,
      "outputs": []
    }
  ]
}